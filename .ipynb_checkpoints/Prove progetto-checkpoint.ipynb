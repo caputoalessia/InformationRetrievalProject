{
 "cells": [
  {
   "cell_type": "code",
   "execution_count": 3,
   "metadata": {},
   "outputs": [],
   "source": [
    "import lzma\n",
    "import json\n",
    "import pandas as pd"
   ]
  },
  {
   "cell_type": "code",
   "execution_count": 93,
   "metadata": {},
   "outputs": [],
   "source": [
    "x = dati[10]\n",
    "my_new_string_value = x.rstrip(\"\\n\")\n",
    "my_json = json.loads(my_new_string_value)"
   ]
  },
  {
   "cell_type": "code",
   "execution_count": 3,
   "metadata": {},
   "outputs": [
    {
     "ename": "KeyboardInterrupt",
     "evalue": "",
     "output_type": "error",
     "traceback": [
      "\u001b[1;31m---------------------------------------------------------------------------\u001b[0m",
      "\u001b[1;31mKeyboardInterrupt\u001b[0m                         Traceback (most recent call last)",
      "\u001b[1;32m<ipython-input-3-1e0f4e172298>\u001b[0m in \u001b[0;36m<module>\u001b[1;34m\u001b[0m\n\u001b[0;32m      1\u001b[0m \u001b[0mlista_documenti\u001b[0m \u001b[1;33m=\u001b[0m \u001b[1;33m[\u001b[0m\u001b[1;33m]\u001b[0m\u001b[1;33m\u001b[0m\u001b[1;33m\u001b[0m\u001b[0m\n\u001b[0;32m      2\u001b[0m \u001b[1;32mwith\u001b[0m \u001b[0mlzma\u001b[0m\u001b[1;33m.\u001b[0m\u001b[0mopen\u001b[0m\u001b[1;33m(\u001b[0m\u001b[1;34m'data.jsonl.xz'\u001b[0m\u001b[1;33m,\u001b[0m \u001b[0mmode\u001b[0m\u001b[1;33m=\u001b[0m\u001b[1;34m'rt'\u001b[0m\u001b[1;33m)\u001b[0m \u001b[1;32mas\u001b[0m \u001b[0mfile\u001b[0m\u001b[1;33m:\u001b[0m\u001b[1;33m\u001b[0m\u001b[1;33m\u001b[0m\u001b[0m\n\u001b[1;32m----> 3\u001b[1;33m     \u001b[1;32mfor\u001b[0m \u001b[0mline\u001b[0m \u001b[1;32min\u001b[0m \u001b[0mfile\u001b[0m\u001b[1;33m:\u001b[0m\u001b[1;33m\u001b[0m\u001b[1;33m\u001b[0m\u001b[0m\n\u001b[0m\u001b[0;32m      4\u001b[0m         \u001b[0mdoc\u001b[0m \u001b[1;33m=\u001b[0m \u001b[0mjson\u001b[0m\u001b[1;33m.\u001b[0m\u001b[0mloads\u001b[0m\u001b[1;33m(\u001b[0m\u001b[0mline\u001b[0m\u001b[1;33m.\u001b[0m\u001b[0mrstrip\u001b[0m\u001b[1;33m(\u001b[0m\u001b[1;34m\"\\n\"\u001b[0m\u001b[1;33m)\u001b[0m\u001b[1;33m)\u001b[0m\u001b[1;33m\u001b[0m\u001b[1;33m\u001b[0m\u001b[0m\n\u001b[0;32m      5\u001b[0m         \u001b[0mlista_documenti\u001b[0m\u001b[1;33m.\u001b[0m\u001b[0mappend\u001b[0m\u001b[1;33m(\u001b[0m\u001b[0mdoc\u001b[0m\u001b[1;33m)\u001b[0m\u001b[1;33m\u001b[0m\u001b[1;33m\u001b[0m\u001b[0m\n",
      "\u001b[1;32m~\\anaconda3\\lib\\lzma.py\u001b[0m in \u001b[0;36mread1\u001b[1;34m(self, size)\u001b[0m\n\u001b[0;32m    210\u001b[0m         \u001b[1;32mif\u001b[0m \u001b[0msize\u001b[0m \u001b[1;33m<\u001b[0m \u001b[1;36m0\u001b[0m\u001b[1;33m:\u001b[0m\u001b[1;33m\u001b[0m\u001b[1;33m\u001b[0m\u001b[0m\n\u001b[0;32m    211\u001b[0m             \u001b[0msize\u001b[0m \u001b[1;33m=\u001b[0m \u001b[0mio\u001b[0m\u001b[1;33m.\u001b[0m\u001b[0mDEFAULT_BUFFER_SIZE\u001b[0m\u001b[1;33m\u001b[0m\u001b[1;33m\u001b[0m\u001b[0m\n\u001b[1;32m--> 212\u001b[1;33m         \u001b[1;32mreturn\u001b[0m \u001b[0mself\u001b[0m\u001b[1;33m.\u001b[0m\u001b[0m_buffer\u001b[0m\u001b[1;33m.\u001b[0m\u001b[0mread1\u001b[0m\u001b[1;33m(\u001b[0m\u001b[0msize\u001b[0m\u001b[1;33m)\u001b[0m\u001b[1;33m\u001b[0m\u001b[1;33m\u001b[0m\u001b[0m\n\u001b[0m\u001b[0;32m    213\u001b[0m \u001b[1;33m\u001b[0m\u001b[0m\n\u001b[0;32m    214\u001b[0m     \u001b[1;32mdef\u001b[0m \u001b[0mreadline\u001b[0m\u001b[1;33m(\u001b[0m\u001b[0mself\u001b[0m\u001b[1;33m,\u001b[0m \u001b[0msize\u001b[0m\u001b[1;33m=\u001b[0m\u001b[1;33m-\u001b[0m\u001b[1;36m1\u001b[0m\u001b[1;33m)\u001b[0m\u001b[1;33m:\u001b[0m\u001b[1;33m\u001b[0m\u001b[1;33m\u001b[0m\u001b[0m\n",
      "\u001b[1;32m~\\anaconda3\\lib\\_compression.py\u001b[0m in \u001b[0;36mreadinto\u001b[1;34m(self, b)\u001b[0m\n\u001b[0;32m     66\u001b[0m     \u001b[1;32mdef\u001b[0m \u001b[0mreadinto\u001b[0m\u001b[1;33m(\u001b[0m\u001b[0mself\u001b[0m\u001b[1;33m,\u001b[0m \u001b[0mb\u001b[0m\u001b[1;33m)\u001b[0m\u001b[1;33m:\u001b[0m\u001b[1;33m\u001b[0m\u001b[1;33m\u001b[0m\u001b[0m\n\u001b[0;32m     67\u001b[0m         \u001b[1;32mwith\u001b[0m \u001b[0mmemoryview\u001b[0m\u001b[1;33m(\u001b[0m\u001b[0mb\u001b[0m\u001b[1;33m)\u001b[0m \u001b[1;32mas\u001b[0m \u001b[0mview\u001b[0m\u001b[1;33m,\u001b[0m \u001b[0mview\u001b[0m\u001b[1;33m.\u001b[0m\u001b[0mcast\u001b[0m\u001b[1;33m(\u001b[0m\u001b[1;34m\"B\"\u001b[0m\u001b[1;33m)\u001b[0m \u001b[1;32mas\u001b[0m \u001b[0mbyte_view\u001b[0m\u001b[1;33m:\u001b[0m\u001b[1;33m\u001b[0m\u001b[1;33m\u001b[0m\u001b[0m\n\u001b[1;32m---> 68\u001b[1;33m             \u001b[0mdata\u001b[0m \u001b[1;33m=\u001b[0m \u001b[0mself\u001b[0m\u001b[1;33m.\u001b[0m\u001b[0mread\u001b[0m\u001b[1;33m(\u001b[0m\u001b[0mlen\u001b[0m\u001b[1;33m(\u001b[0m\u001b[0mbyte_view\u001b[0m\u001b[1;33m)\u001b[0m\u001b[1;33m)\u001b[0m\u001b[1;33m\u001b[0m\u001b[1;33m\u001b[0m\u001b[0m\n\u001b[0m\u001b[0;32m     69\u001b[0m             \u001b[0mbyte_view\u001b[0m\u001b[1;33m[\u001b[0m\u001b[1;33m:\u001b[0m\u001b[0mlen\u001b[0m\u001b[1;33m(\u001b[0m\u001b[0mdata\u001b[0m\u001b[1;33m)\u001b[0m\u001b[1;33m]\u001b[0m \u001b[1;33m=\u001b[0m \u001b[0mdata\u001b[0m\u001b[1;33m\u001b[0m\u001b[1;33m\u001b[0m\u001b[0m\n\u001b[0;32m     70\u001b[0m         \u001b[1;32mreturn\u001b[0m \u001b[0mlen\u001b[0m\u001b[1;33m(\u001b[0m\u001b[0mdata\u001b[0m\u001b[1;33m)\u001b[0m\u001b[1;33m\u001b[0m\u001b[1;33m\u001b[0m\u001b[0m\n",
      "\u001b[1;32m~\\anaconda3\\lib\\_compression.py\u001b[0m in \u001b[0;36mread\u001b[1;34m(self, size)\u001b[0m\n\u001b[0;32m    101\u001b[0m                 \u001b[1;32melse\u001b[0m\u001b[1;33m:\u001b[0m\u001b[1;33m\u001b[0m\u001b[1;33m\u001b[0m\u001b[0m\n\u001b[0;32m    102\u001b[0m                     \u001b[0mrawblock\u001b[0m \u001b[1;33m=\u001b[0m \u001b[1;34mb\"\"\u001b[0m\u001b[1;33m\u001b[0m\u001b[1;33m\u001b[0m\u001b[0m\n\u001b[1;32m--> 103\u001b[1;33m                 \u001b[0mdata\u001b[0m \u001b[1;33m=\u001b[0m \u001b[0mself\u001b[0m\u001b[1;33m.\u001b[0m\u001b[0m_decompressor\u001b[0m\u001b[1;33m.\u001b[0m\u001b[0mdecompress\u001b[0m\u001b[1;33m(\u001b[0m\u001b[0mrawblock\u001b[0m\u001b[1;33m,\u001b[0m \u001b[0msize\u001b[0m\u001b[1;33m)\u001b[0m\u001b[1;33m\u001b[0m\u001b[1;33m\u001b[0m\u001b[0m\n\u001b[0m\u001b[0;32m    104\u001b[0m             \u001b[1;32mif\u001b[0m \u001b[0mdata\u001b[0m\u001b[1;33m:\u001b[0m\u001b[1;33m\u001b[0m\u001b[1;33m\u001b[0m\u001b[0m\n\u001b[0;32m    105\u001b[0m                 \u001b[1;32mbreak\u001b[0m\u001b[1;33m\u001b[0m\u001b[1;33m\u001b[0m\u001b[0m\n",
      "\u001b[1;31mKeyboardInterrupt\u001b[0m: "
     ]
    }
   ],
   "source": [
    "lista_documenti = []\n",
    "with lzma.open('data.jsonl.xz', mode='rt') as file:\n",
    "    for line in file:\n",
    "        doc = json.loads(line.rstrip(\"\\n\"))\n",
    "        lista_documenti.append(doc)\n"
   ]
  },
  {
   "cell_type": "code",
   "execution_count": 4,
   "metadata": {},
   "outputs": [],
   "source": [
    "import pymongo"
   ]
  },
  {
   "cell_type": "code",
   "execution_count": 5,
   "metadata": {},
   "outputs": [],
   "source": [
    "db = pymongo.MongoClient()['Illinois']['ill']"
   ]
  },
  {
   "cell_type": "code",
   "execution_count": 40,
   "metadata": {},
   "outputs": [],
   "source": [
    "x = db.insert_many(lista_documenti)"
   ]
  },
  {
   "cell_type": "code",
   "execution_count": 6,
   "metadata": {},
   "outputs": [],
   "source": [
    "import spacy\n",
    "nlp = spacy.load(\"en_core_web_sm\")\n"
   ]
  },
  {
   "cell_type": "code",
   "execution_count": 167,
   "metadata": {},
   "outputs": [],
   "source": [
    "set_lemmi = set({})\n",
    "for i in range (0, 50):\n",
    "    for opinione in lista_documenti[i]['casebody']['data']['opinions']: \n",
    "        doc = nlp(opinione['text'].lower())\n",
    "        for token in doc: \n",
    "            '''\n",
    "            if (token.pos_ != \"NUM\" and token.is_alpha == True and token.pos_ != \"X\" and token.pos_ != \"SYM\" and\n",
    "                token.pos_ != \"PUNCT\" and token.pos_ != \"PRON\" and token.is_stop == False):\n",
    "                set_lemmi.add((token.lemma_, token.pos_, token.is_alpha))\n",
    "            '''\n",
    "            #Teniamo: aggettivi, avverbi, ausiliari, nomi, det, nomi propri, sconj, verbi \n",
    "            if ((token.pos_ == \"ADJ\" or token.pos_ == \"ADV\" or token.pos_ == \"AUX\" or token.pos_ == \"NOUN\" or token.pos_ == \"DET\" \n",
    "                or token.pos_ == \"PROPN\" or token.pos_ == \"SCONJ\" or token.pos_ == \"VERB\") and token.is_alpha == True \n",
    "               and token.is_stop == False): \n",
    "                set_lemmi.add((token.lemma_, token.pos_, token.is_alpha))\n",
    "            \n",
    "            "
   ]
  },
  {
   "cell_type": "code",
   "execution_count": 169,
   "metadata": {},
   "outputs": [
    {
     "name": "stdout",
     "output_type": "stream",
     "text": [
      "7185 {'VERB', 'ADV', 'NOUN', 'ADJ', 'SCONJ', 'DET', 'AUX', 'PROPN'}\n"
     ]
    }
   ],
   "source": [
    "set_posizione = set({})\n",
    "for elem in set_lemmi:\n",
    "    set_posizione.add(elem[1])\n",
    "print(len(set_lemmi), set_posizione)"
   ]
  },
  {
   "cell_type": "code",
   "execution_count": 172,
   "metadata": {},
   "outputs": [
    {
     "data": {
      "text/plain": [
       "[('ciao', 2), ('a', 1)]"
      ]
     },
     "execution_count": 172,
     "metadata": {},
     "output_type": "execute_result"
    }
   ],
   "source": [
    "Counter(['ciao', 'ciao', 'a']).most_common()"
   ]
  },
  {
   "cell_type": "code",
   "execution_count": null,
   "metadata": {},
   "outputs": [],
   "source": []
  },
  {
   "cell_type": "code",
   "execution_count": 181,
   "metadata": {
    "scrolled": true
   },
   "outputs": [
    {
     "name": "stdout",
     "output_type": "stream",
     "text": [
      "<class 'str'>\n",
      "<class 'str'>\n",
      "<class 'str'>\n",
      "<class 'str'>\n",
      "<class 'str'>\n",
      "<class 'str'>\n",
      "<class 'str'>\n"
     ]
    }
   ],
   "source": [
    "mydoc = db.find({'decision_date': '1997-05-01'})\n",
    "for x in mydoc:\n",
    "    print(type(x['decision_date']))"
   ]
  },
  {
   "cell_type": "code",
   "execution_count": 27,
   "metadata": {},
   "outputs": [],
   "source": [
    "dict_iddoc_opinions = {}\n",
    "for x in db.find({}, {\"casebody.data.opinions.text\":1, \"id\":1}):\n",
    "    if len(x['casebody']['data']['opinions']) == 1: \n",
    "        dict_iddoc_opinions[str(x['id'])] = x['casebody']['data']['opinions'][0]['text']\n",
    "    else:\n",
    "        opinioni = \"\"\n",
    "        for i in x['casebody']['data']['opinions']:\n",
    "            opinioni += i['text']\n",
    "        dict_iddoc_opinions[str(x['id'])] = opinioni"
   ]
  },
  {
   "cell_type": "code",
   "execution_count": 32,
   "metadata": {},
   "outputs": [],
   "source": [
    "all_ids = list(dict_iddoc_opinions.keys())\n",
    "all_opinions = list(dict_iddoc_opinions.values())"
   ]
  },
  {
   "cell_type": "code",
   "execution_count": 96,
   "metadata": {},
   "outputs": [],
   "source": [
    "n_documenti = 500"
   ]
  },
  {
   "cell_type": "code",
   "execution_count": 2,
   "metadata": {},
   "outputs": [],
   "source": [
    "from sklearn.pipeline import Pipeline\n",
    "from sklearn.feature_extraction.text import CountVectorizer\n",
    "from sklearn.feature_extraction.text import TfidfTransformer\n",
    "from sklearn.feature_extraction.text import TfidfVectorizer\n"
   ]
  },
  {
   "cell_type": "code",
   "execution_count": 10,
   "metadata": {},
   "outputs": [],
   "source": [
    "tokens = lambda text: [x.lemma_ for x in nlp(text.lower()) if x.pos_ in ['ADJ', 'ADV', 'VERB', 'PROPN', 'AUX', 'DET', 'NOUN', 'SCONJ']\n",
    "                       and not x.is_stop and x.is_alpha ]"
   ]
  },
  {
   "cell_type": "code",
   "execution_count": 97,
   "metadata": {},
   "outputs": [],
   "source": [
    "vectorizer = TfidfVectorizer(tokenizer = tokens)\n",
    "document_matrix = vectorizer.fit_transform(all_opinions[:n_documenti])\n",
    "vocabulary = vectorizer.get_feature_names()"
   ]
  },
  {
   "cell_type": "code",
   "execution_count": 98,
   "metadata": {},
   "outputs": [],
   "source": [
    "#matrice termine-documento pandas\n",
    "df_documents = pd.DataFrame(document_matrix.toarray(), columns=vectorizer.get_feature_names(), index=all_ids[:n_documenti])\n"
   ]
  },
  {
   "cell_type": "code",
   "execution_count": 99,
   "metadata": {},
   "outputs": [
    {
     "data": {
      "text/html": [
       "<div>\n",
       "<style scoped>\n",
       "    .dataframe tbody tr th:only-of-type {\n",
       "        vertical-align: middle;\n",
       "    }\n",
       "\n",
       "    .dataframe tbody tr th {\n",
       "        vertical-align: top;\n",
       "    }\n",
       "\n",
       "    .dataframe thead th {\n",
       "        text-align: right;\n",
       "    }\n",
       "</style>\n",
       "<table border=\"1\" class=\"dataframe\">\n",
       "  <thead>\n",
       "    <tr style=\"text-align: right;\">\n",
       "      <th></th>\n",
       "      <th>aaip</th>\n",
       "      <th>aardvark</th>\n",
       "      <th>aaron</th>\n",
       "      <th>ab</th>\n",
       "      <th>abadie</th>\n",
       "      <th>abam</th>\n",
       "      <th>abandon</th>\n",
       "      <th>abandonment</th>\n",
       "      <th>abate</th>\n",
       "      <th>abatemeht</th>\n",
       "      <th>...</th>\n",
       "      <th>á</th>\n",
       "      <th>án</th>\n",
       "      <th>ánd</th>\n",
       "      <th>áre</th>\n",
       "      <th>érror</th>\n",
       "      <th>éxclude</th>\n",
       "      <th>í</th>\n",
       "      <th>íjnd</th>\n",
       "      <th>ñve</th>\n",
       "      <th>útero</th>\n",
       "    </tr>\n",
       "  </thead>\n",
       "  <tbody>\n",
       "    <tr>\n",
       "      <th>544894</th>\n",
       "      <td>0.0</td>\n",
       "      <td>0.0</td>\n",
       "      <td>0.000000</td>\n",
       "      <td>0.0</td>\n",
       "      <td>0.0</td>\n",
       "      <td>0.0</td>\n",
       "      <td>0.000000</td>\n",
       "      <td>0.0</td>\n",
       "      <td>0.0</td>\n",
       "      <td>0.0</td>\n",
       "      <td>...</td>\n",
       "      <td>0.0</td>\n",
       "      <td>0.0</td>\n",
       "      <td>0.0</td>\n",
       "      <td>0.0</td>\n",
       "      <td>0.0</td>\n",
       "      <td>0.000000</td>\n",
       "      <td>0.0</td>\n",
       "      <td>0.0</td>\n",
       "      <td>0.0</td>\n",
       "      <td>0.0</td>\n",
       "    </tr>\n",
       "    <tr>\n",
       "      <th>544872</th>\n",
       "      <td>0.0</td>\n",
       "      <td>0.0</td>\n",
       "      <td>0.000000</td>\n",
       "      <td>0.0</td>\n",
       "      <td>0.0</td>\n",
       "      <td>0.0</td>\n",
       "      <td>0.000000</td>\n",
       "      <td>0.0</td>\n",
       "      <td>0.0</td>\n",
       "      <td>0.0</td>\n",
       "      <td>...</td>\n",
       "      <td>0.0</td>\n",
       "      <td>0.0</td>\n",
       "      <td>0.0</td>\n",
       "      <td>0.0</td>\n",
       "      <td>0.0</td>\n",
       "      <td>0.012328</td>\n",
       "      <td>0.0</td>\n",
       "      <td>0.0</td>\n",
       "      <td>0.0</td>\n",
       "      <td>0.0</td>\n",
       "    </tr>\n",
       "    <tr>\n",
       "      <th>544855</th>\n",
       "      <td>0.0</td>\n",
       "      <td>0.0</td>\n",
       "      <td>0.007499</td>\n",
       "      <td>0.0</td>\n",
       "      <td>0.0</td>\n",
       "      <td>0.0</td>\n",
       "      <td>0.000000</td>\n",
       "      <td>0.0</td>\n",
       "      <td>0.0</td>\n",
       "      <td>0.0</td>\n",
       "      <td>...</td>\n",
       "      <td>0.0</td>\n",
       "      <td>0.0</td>\n",
       "      <td>0.0</td>\n",
       "      <td>0.0</td>\n",
       "      <td>0.0</td>\n",
       "      <td>0.000000</td>\n",
       "      <td>0.0</td>\n",
       "      <td>0.0</td>\n",
       "      <td>0.0</td>\n",
       "      <td>0.0</td>\n",
       "    </tr>\n",
       "    <tr>\n",
       "      <th>544890</th>\n",
       "      <td>0.0</td>\n",
       "      <td>0.0</td>\n",
       "      <td>0.000000</td>\n",
       "      <td>0.0</td>\n",
       "      <td>0.0</td>\n",
       "      <td>0.0</td>\n",
       "      <td>0.015102</td>\n",
       "      <td>0.0</td>\n",
       "      <td>0.0</td>\n",
       "      <td>0.0</td>\n",
       "      <td>...</td>\n",
       "      <td>0.0</td>\n",
       "      <td>0.0</td>\n",
       "      <td>0.0</td>\n",
       "      <td>0.0</td>\n",
       "      <td>0.0</td>\n",
       "      <td>0.000000</td>\n",
       "      <td>0.0</td>\n",
       "      <td>0.0</td>\n",
       "      <td>0.0</td>\n",
       "      <td>0.0</td>\n",
       "    </tr>\n",
       "    <tr>\n",
       "      <th>544916</th>\n",
       "      <td>0.0</td>\n",
       "      <td>0.0</td>\n",
       "      <td>0.000000</td>\n",
       "      <td>0.0</td>\n",
       "      <td>0.0</td>\n",
       "      <td>0.0</td>\n",
       "      <td>0.008762</td>\n",
       "      <td>0.0</td>\n",
       "      <td>0.0</td>\n",
       "      <td>0.0</td>\n",
       "      <td>...</td>\n",
       "      <td>0.0</td>\n",
       "      <td>0.0</td>\n",
       "      <td>0.0</td>\n",
       "      <td>0.0</td>\n",
       "      <td>0.0</td>\n",
       "      <td>0.000000</td>\n",
       "      <td>0.0</td>\n",
       "      <td>0.0</td>\n",
       "      <td>0.0</td>\n",
       "      <td>0.0</td>\n",
       "    </tr>\n",
       "  </tbody>\n",
       "</table>\n",
       "<p>5 rows × 19625 columns</p>\n",
       "</div>"
      ],
      "text/plain": [
       "        aaip  aardvark     aaron   ab  abadie  abam   abandon  abandonment  \\\n",
       "544894   0.0       0.0  0.000000  0.0     0.0   0.0  0.000000          0.0   \n",
       "544872   0.0       0.0  0.000000  0.0     0.0   0.0  0.000000          0.0   \n",
       "544855   0.0       0.0  0.007499  0.0     0.0   0.0  0.000000          0.0   \n",
       "544890   0.0       0.0  0.000000  0.0     0.0   0.0  0.015102          0.0   \n",
       "544916   0.0       0.0  0.000000  0.0     0.0   0.0  0.008762          0.0   \n",
       "\n",
       "        abate  abatemeht  ...    á   án  ánd  áre  érror   éxclude    í  íjnd  \\\n",
       "544894    0.0        0.0  ...  0.0  0.0  0.0  0.0    0.0  0.000000  0.0   0.0   \n",
       "544872    0.0        0.0  ...  0.0  0.0  0.0  0.0    0.0  0.012328  0.0   0.0   \n",
       "544855    0.0        0.0  ...  0.0  0.0  0.0  0.0    0.0  0.000000  0.0   0.0   \n",
       "544890    0.0        0.0  ...  0.0  0.0  0.0  0.0    0.0  0.000000  0.0   0.0   \n",
       "544916    0.0        0.0  ...  0.0  0.0  0.0  0.0    0.0  0.000000  0.0   0.0   \n",
       "\n",
       "        ñve  útero  \n",
       "544894  0.0    0.0  \n",
       "544872  0.0    0.0  \n",
       "544855  0.0    0.0  \n",
       "544890  0.0    0.0  \n",
       "544916  0.0    0.0  \n",
       "\n",
       "[5 rows x 19625 columns]"
      ]
     },
     "execution_count": 99,
     "metadata": {},
     "output_type": "execute_result"
    }
   ],
   "source": [
    "df_documents.head() #fa vedere i primi 5"
   ]
  },
  {
   "cell_type": "code",
   "execution_count": 70,
   "metadata": {},
   "outputs": [
    {
     "data": {
      "text/plain": [
       "544894     0.035823\n",
       "544872     0.004578\n",
       "544855     0.005761\n",
       "1596989    0.004320\n",
       "Name: absent, dtype: float64"
      ]
     },
     "execution_count": 70,
     "metadata": {},
     "output_type": "execute_result"
    }
   ],
   "source": [
    "df_documents.loc[df_documents['absent'] > 0]['absent']"
   ]
  },
  {
   "cell_type": "code",
   "execution_count": 65,
   "metadata": {},
   "outputs": [
    {
     "data": {
      "text/plain": [
       "['544872']"
      ]
     },
     "execution_count": 65,
     "metadata": {},
     "output_type": "execute_result"
    }
   ],
   "source": [
    "lista_indici_condizione = list(df_documents.loc[df_documents['cocaine'] > 0].index)\n",
    "lista_indici_condizione"
   ]
  },
  {
   "cell_type": "code",
   "execution_count": 113,
   "metadata": {},
   "outputs": [],
   "source": [
    "lista_indici_condizione = ['1295576']"
   ]
  },
  {
   "cell_type": "code",
   "execution_count": 114,
   "metadata": {
    "collapsed": true
   },
   "outputs": [
    {
     "name": "stdout",
     "output_type": "stream",
     "text": [
      "PRESIDING JUSTICE HOLDRIDGE\n",
      "delivered the opinion of the court:\n",
      "Following a stipulated bench trial, defendant Robert Siegwarth was convicted of possession of cannabis (720 ILCS 550 /4(e) (West 1994)). He was sentenced to a 30-month term of probation and 100 hours of community service. He also was ordered to pay a street value fine and costs.\n",
      "The issue on appeal is whether the trial court erred in denying defendant’s motion to quash the search warrant and suppress evidence. Defendant argues that: (1) the warrant was invalid for failure to specify items to be seized; and (2) the search of his room was unauthorized. We find that the trial court’s denial of defendant’s motion was not clearly erroneous. Accordingly, we affirm.\n",
      "FACTS\n",
      "On January 27, 1995, at 9:57 p.m., the Peoria police obtained a warrant to search for evidence of unlawful possession of cannabis. The warrant directed the officers to:\n",
      "\"search the person of Terry Sturgeon and the premises located at 2716 N. Peoria Ave., in the City of Peoria, County of Peoria, State of Illinois, and seize the following instruments, articles and things: [four lines of blank space]\n",
      "and related paraphernalia which have been used in the commission of, or which constitute evidence of the offense of Unlawful Possession of Cannabis.”\n",
      "Accompanying the warrant was an affidavit signed by an informant, Mary Doe, and a complaint for search warrant filed by Officer Chris Cates. Doe stated that she saw at least 10 pounds of marijuana, a triple beam scale and packaging material in the residence. Cates’ complaint detailed his interview with Doe and described Terry Sturgeon, the house, and the material to be seized.\n",
      "Approximately two hours after the warrant was issued, the police executed it. In an upstairs bedroom, the officers found several persons, including Terry Sturgeon and defendant’s daughter, Janell Siegwarth. They also found approximately 15 pounds of cannabis, a triple beam scale and $36,400 in United States currency.\n",
      "The door to a second bedroom was padlocked, and Janell informed one of the officers that it was defendant’s room. After breaking the lock, the officers entered the bedroom. There, they found 11 live cannabis plants, 3 more drying on the floor and a bag of clippings from the plants. Defendant arrived at the residence shortly after the search. He had the key to the padlock in his possession.\n",
      ". In addition to the foregoing, it was stipulated that the house was rented by defendant and Janell, and that the plants and plant material removed from defendant’s room weighed 646.4 grams and tested positive for cannabis. The record also contains a search warrant inventory affidavit signed by Special Agent Marvin Kenser. In it, Kenser states that he executed the warrant and that it directed him to seize the following items related to the offense of unlawful possession of cannabis:\n",
      "\"cannabis, U.S. currency, any records pertaining to ownership or to possession of, delivery of, or possession with intent to deliver cannabis, computers, computer disks, computer tapes and related paraphernalia. ’ ’\n",
      "These same items were listed verbatim in the complaint for search warrant.\n",
      "Defendant moved to quash the warrant and suppress evidence, contending that the warrant did not authorize the police to search his room because the person specified by the warrant had already been searched and the evidence specified had been seized in the first bedroom. Following a hearing, the court found that: (1) the warrant authorized a search of defendant’s padlocked room; and (2) sufficient facts in the complaint and affidavit for warrant cured the failure to list on the face of the warrant the items to be seized. Accordingly, the court denied defendant’s motion to quash and suppress. Defendant was subsequently found guilty as charged and sentenced, as aforesaid.\n",
      "WARRANT’S FAILURE TO DESCRIBE ITEMS TO BE SEIZED\n",
      "On appeal, defendant first contends that the trial court erred in denying his motion to quash the warrant and suppress evidence because the warrant failed to specify items to be seized.\n",
      "The fourth amendment prohibits unreasonable searches and seizures. U.S. Const., amend. IV; Ill. Const. 1970, art. I, § 6. It protects against the issuance of search warrants that grant the police broad discretion to conduct a \"general, exploratory rummaging in a person’s belongings.” Coolidge v. New Hampshire, 403 U.S. 443, 467, 29 L. Ed. 2d 564, 583, 91 S. Ct. 2022, 2038 (1971). This fundamental guarantee is preserved by giving close scrutiny to careless police practices. Boyd v. United States, 116 U.S. 616, 29 L. Ed. 746, 6 S. Ct. 524 (1886).\n",
      "Section 108 — 7 of the Code of Criminal Procedure of 1963 guards against the issuance of general warrants by requiring that search warrants particularly describe the place and the instruments, articles or things to be seized. 725 ILCS 5/108 — 7 (West 1994). However, not all omissions on the face of a warrant are fatal. People v. Powless, 199 Ill. App. 3d 952, 557 N.E.2d 946 (1990). A warrant should be quashed and evidence suppressed only if the claimed defects affect an accused’s substantial rights. 725 ILCS 5/108 — 14 (West 1994). A defendant’s substantial rights may be deemed affected if an omission on the face of the warrant confused or could have confused the officers attempting to execute it. See People v. Wolski, 83 Ill. App. 3d 17, 403 N.E.2d 528 (1980); see also People v. Bishop, 71 Ill. App. 3d 52, 388 N.E.2d 1144 (1979). On review, the trial court’s ruling on a motion to quash the warrant and suppress evidence should not be disturbed unless it is clearly erroneous. People v. Luckett, 273 Ill. App. 3d 1023, 652 N.E.2d 1342 (1995).\n",
      "In arguing that the warrant was invalid in this case, defendant relies on Bishop, 71 Ill. App. 3d 52, 388 N.E.2d 1144. In Bishop, as here, the warrant seeking evidence of the unlawful possession of cannabis was a standard form document with a blank space for describing property to be seized. In executing the warrant, the police seized, inter alia, a telephone, a car stereo and a rifle. The trial court found the warrant defective and granted Bishop’s motion to suppress.\n",
      "On appeal, the court observed that the warrant left the determination of property to be seized entirely to the discretion of the offic ers executing it. The court also noted that the officers considered it a general warrant, because the items they seized included objects that apparently were neither contraband nor inherently related to the offense specified. Accordingly, the court affirmed the trial court’s suppression of evidence. Bishop, 71 Ill. App. 3d at 55, 388 N.E.2d at 1146.\n",
      "On its face, the warrant here was indistinguishable from the one found fatally defective in Bishop. Our research discloses no other reported cases involving a similar defect in the warrant. Nonetheless, without condoning the type of carelessness such warrants represent, we do not find Bishop dispositive of the issue before us today. Unlike Bishop, there is no evidence here that the officers considered the warrant a general one or that they had doubt or exercised any discretion in executing it. Kenser’s affidavit of inventory indicates that the officers believed they were authorized to seize only those things specifically listed in the accompanying complaint for search warrant. Further, the only items seized from defendant’s room were contraband, and defendant has not shown how his substantial rights were impaired by the seizure of cannabis based on a warrant to search for evidence of the unlawful possession of cannabis. See People v. Blake, 266 Ill. App. 3d 232, 640 N.E.2d 317 (1994). Accordingly, we find that the trial court’s ruling denying defendant relief based on the warrant’s failure to specify items to be seized is not clearly erroneous.\n",
      "AUTHORITY TO ENTER DEFENDANT’S ROOM\n",
      "Defendant also argues that the warrant did not authorize the search of his room. In this regard, defendant relies on cases involving buildings with multiple apartments. See, e.g., Maryland v. Garrison, 480 U.S. 79, 94 L. Ed. 2d 72, 107 S. Ct. 1013 (1987). Defendant’s position is not well taken.\n",
      "In the cases cited by defendant, the searches were deemed unreasonable because the warrants in those cases left discretion in the officers as to which apartment in an apartment building was to be searched. See United States v. Higgins, 428 F.2d 232 (7th Cir. 1970); United States v. Hinton, 219 F.2d 324 (7th Cir. 1955). Obviously, in multiple-family residences with separate living quarters, it is likely that innocent residents with separate proprietary interests would be exposed to an unreasonable intrusion by the police unless the warrant particularly describes the location within the building where there is probable cause to search. Luckett, 273 Ill. App. 3d 1023, 652 N.E.2d 1342. The same is not true in single-family structures, where occupants share living quarters and have a shared expectation of privacy in the premises. In such cases, if there is probable cause to believe that contraband is in the house, all of the occupants may reasonably be suspected of possessing the contraband. See People v. Gordon, 128 Ill. App. 3d 92, 470 N.E.2d 29 (1984).\n",
      "The warrant in this case authorized a search of \"the premises located at 2716 N. Peoria Ave.” The accompanying affidavit and complaint for search warrant described the premises as a \"two-story, single family dwelling.” Nothing in the warrant or accompanying documents gave notice to the police executing the warrant that the house contained separate apartments or that probable cause existed only as to certain rooms. See Gordon, 128 Ill. App. 3d 92, 470 N.E.2d 29. Moreover, the mere fact that defendant’s bedroom was padlocked and Janell told the police that the room was her father’s does not mean that the house in fact contained multiple living units. See People v. Economy, 259 Ill. App. 3d 504, 631 N.E.2d 827 (1994). Under the circumstances, the danger of infringing upon the substantial rights of a member of the household was minimal, and it would have been unreasonable to require the police to abandon their search of the house to obtain another warrant. See Gordon, 128 Ill. App. 3d 92, 470 N.E.2d 29.\n",
      "CONCLUSION\n",
      "For the reasons stated, we hold that the trial court did not err in denying defendant’s motion to quash the warrant and suppress evidence. The judgment of the circuit court of Peoria County is affirmed.\n",
      "Affirmed.\n",
      "LYTTON and McCUSKEY, JJ., concur.\n"
     ]
    }
   ],
   "source": [
    "for indice in lista_indici_condizione:\n",
    "    mydoc = db.find({'id': int(indice)})\n",
    "    for doc in mydoc:\n",
    "        print(doc['casebody']['data']['opinions'][0]['text'])"
   ]
  },
  {
   "cell_type": "code",
   "execution_count": 131,
   "metadata": {},
   "outputs": [],
   "source": [
    "query = ['Marijuana cannabis']\n",
    "queries_matrix = vectorizer.transform(query)"
   ]
  },
  {
   "cell_type": "code",
   "execution_count": 132,
   "metadata": {},
   "outputs": [],
   "source": [
    "df_queries = pd.DataFrame(queries_matrix.toarray(), columns=vectorizer.get_feature_names())"
   ]
  },
  {
   "cell_type": "code",
   "execution_count": 120,
   "metadata": {},
   "outputs": [],
   "source": [
    "from sklearn.metrics.pairwise import cosine_similarity\n"
   ]
  },
  {
   "cell_type": "code",
   "execution_count": 118,
   "metadata": {},
   "outputs": [],
   "source": [
    "document_matrix = X.toarray()"
   ]
  },
  {
   "cell_type": "code",
   "execution_count": 133,
   "metadata": {},
   "outputs": [],
   "source": [
    "sigma = cosine_similarity(document_matrix, queries_matrix)"
   ]
  },
  {
   "cell_type": "code",
   "execution_count": 134,
   "metadata": {},
   "outputs": [
    {
     "data": {
      "text/html": [
       "<div>\n",
       "<style scoped>\n",
       "    .dataframe tbody tr th:only-of-type {\n",
       "        vertical-align: middle;\n",
       "    }\n",
       "\n",
       "    .dataframe tbody tr th {\n",
       "        vertical-align: top;\n",
       "    }\n",
       "\n",
       "    .dataframe thead th {\n",
       "        text-align: right;\n",
       "    }\n",
       "</style>\n",
       "<table border=\"1\" class=\"dataframe\">\n",
       "  <thead>\n",
       "    <tr style=\"text-align: right;\">\n",
       "      <th></th>\n",
       "      <th>0</th>\n",
       "    </tr>\n",
       "  </thead>\n",
       "  <tbody>\n",
       "    <tr>\n",
       "      <th>1295576</th>\n",
       "      <td>0.217167</td>\n",
       "    </tr>\n",
       "    <tr>\n",
       "      <th>1260370</th>\n",
       "      <td>0.116346</td>\n",
       "    </tr>\n",
       "    <tr>\n",
       "      <th>980718</th>\n",
       "      <td>0.061329</td>\n",
       "    </tr>\n",
       "  </tbody>\n",
       "</table>\n",
       "</div>"
      ],
      "text/plain": [
       "                0\n",
       "1295576  0.217167\n",
       "1260370  0.116346\n",
       "980718   0.061329"
      ]
     },
     "execution_count": 134,
     "metadata": {},
     "output_type": "execute_result"
    }
   ],
   "source": [
    "df_cosine_similarity = pd.DataFrame(sigma, index=all_ids[:n_documenti])\n",
    "df_cosine_similarity[df_cosine_similarity[0]>0.05].sort_values(by=0, ascending=False)"
   ]
  },
  {
   "cell_type": "code",
   "execution_count": 235,
   "metadata": {},
   "outputs": [],
   "source": [
    "import matplotlib.pyplot as plt\n",
    "from sklearn.decomposition import PCA"
   ]
  },
  {
   "cell_type": "code",
   "execution_count": 236,
   "metadata": {},
   "outputs": [],
   "source": [
    "pca = PCA(n_components=2)\n",
    "v_docs = pca.fit_transform(X.toarray())\n",
    "v_queries = pca.transform(queries_matrix.toarray())"
   ]
  },
  {
   "cell_type": "code",
   "execution_count": 220,
   "metadata": {},
   "outputs": [
    {
     "data": {
      "text/plain": [
       "array([[0, 0, 0, ..., 0, 0, 0],\n",
       "       [0, 0, 0, ..., 0, 0, 0],\n",
       "       [1, 0, 0, ..., 0, 0, 0],\n",
       "       ...,\n",
       "       [0, 0, 0, ..., 0, 0, 0],\n",
       "       [0, 0, 0, ..., 0, 0, 0],\n",
       "       [0, 0, 0, ..., 0, 0, 0]], dtype=int64)"
      ]
     },
     "execution_count": 220,
     "metadata": {},
     "output_type": "execute_result"
    }
   ],
   "source": [
    "pipe = Pipeline([('count', CountVectorizer(vocabulary=vocabulary)),\n",
    "                 ('tfid', TfidfTransformer())]).fit(ls_opinions[:50])\n",
    "pipe['count'].transform(ls_opinions[:50]).toarray()\n"
   ]
  },
  {
   "cell_type": "code",
   "execution_count": 218,
   "metadata": {
    "scrolled": true
   },
   "outputs": [
    {
     "data": {
      "text/plain": [
       "array([3.35137526, 3.35137526, 4.04452244, ..., 4.04452244, 3.35137526,\n",
       "       4.04452244])"
      ]
     },
     "execution_count": 218,
     "metadata": {},
     "output_type": "execute_result"
    }
   ],
   "source": [
    "pipe['tfid'].idf_"
   ]
  },
  {
   "cell_type": "code",
   "execution_count": 221,
   "metadata": {
    "collapsed": true
   },
   "outputs": [
    {
     "name": "stdout",
     "output_type": "stream",
     "text": [
      "  (0, 6282)\t0.029231529295224653\n",
      "  (0, 6254)\t0.005214874749454718\n",
      "  (0, 6245)\t0.0035653809768709335\n",
      "  (0, 6222)\t0.00740281409575894\n",
      "  (0, 6220)\t0.01480562819151788\n",
      "  (0, 6176)\t0.023120417100904015\n",
      "  (0, 6173)\t0.00740281409575894\n",
      "  (0, 6172)\t0.007064416832542364\n",
      "  (0, 6171)\t0.052222684575905544\n",
      "  (0, 6143)\t0.003381369776386991\n",
      "  (0, 6130)\t0.004425486763817375\n",
      "  (0, 6109)\t0.0034709530573542413\n",
      "  (0, 6105)\t0.00740281409575894\n",
      "  (0, 6078)\t0.006192238729735459\n",
      "  (0, 6071)\t0.003771087997688501\n",
      "  (0, 6070)\t0.018367780569641882\n",
      "  (0, 6067)\t0.009963326727423961\n",
      "  (0, 6064)\t0.043345671108148215\n",
      "  (0, 6060)\t0.017354765286771205\n",
      "  (0, 6048)\t0.005484097536314936\n",
      "  (0, 6045)\t0.0049816633637119806\n",
      "  (0, 6043)\t0.01480562819151788\n",
      "  (0, 6014)\t0.005802520508433949\n",
      "  (0, 6006)\t0.004775956342894412\n",
      "  (0, 6003)\t0.007767607897979894\n",
      "  :\t:\n",
      "  (49, 161)\t0.008155994949510798\n",
      "  (49, 155)\t0.01278576696619539\n",
      "  (49, 149)\t0.0054885102758253776\n",
      "  (49, 133)\t0.006042063359990897\n",
      "  (49, 132)\t0.014751611393667215\n",
      "  (49, 120)\t0.01278576696619539\n",
      "  (49, 119)\t0.004708321023148187\n",
      "  (49, 118)\t0.01812619007997269\n",
      "  (49, 114)\t0.0323049203576523\n",
      "  (49, 112)\t0.008155994949510798\n",
      "  (49, 100)\t0.0054885102758253776\n",
      "  (49, 96)\t0.009108608338668856\n",
      "  (49, 83)\t0.008155994949510798\n",
      "  (49, 82)\t0.004411706835418804\n",
      "  (49, 81)\t0.004411706835418804\n",
      "  (49, 77)\t0.007375805696833607\n",
      "  (49, 75)\t0.018160726035398003\n",
      "  (49, 74)\t0.01297194716814143\n",
      "  (49, 56)\t0.006392883483097695\n",
      "  (49, 47)\t0.005642051204279914\n",
      "  (49, 46)\t0.004411706835418804\n",
      "  (49, 27)\t0.026470241012512826\n",
      "  (49, 22)\t0.006042063359990897\n",
      "  (49, 20)\t0.012114345134119612\n",
      "  (49, 10)\t0.004554304169334428\n"
     ]
    }
   ],
   "source": [
    "print(pipe.transform(ls_opinions[:50]))"
   ]
  },
  {
   "cell_type": "markdown",
   "metadata": {},
   "source": [
    "## Location extraction"
   ]
  },
  {
   "cell_type": "markdown",
   "metadata": {},
   "source": [
    "Troviamo i documenti della corte suprema e li eliminiamo tutti "
   ]
  },
  {
   "cell_type": "code",
   "execution_count": 179,
   "metadata": {},
   "outputs": [],
   "source": [
    "corte = []\n",
    "for doc in db.find({}, {\"court.name\":1, '_id':1}):\n",
    "    corte.append((doc['court']['name'], doc['_id']))"
   ]
  },
  {
   "cell_type": "code",
   "execution_count": 204,
   "metadata": {},
   "outputs": [],
   "source": [
    "\n",
    "for x in db.find({\"id\":544904}):\n",
    "      doc = dict(x)"
   ]
  },
  {
   "cell_type": "code",
   "execution_count": 183,
   "metadata": {},
   "outputs": [],
   "source": [
    "appellate_court = []\n",
    "for el in corte:\n",
    "    if el[0] == 'Illinois Appellate Court':\n",
    "        appellate_court.append(el[1])"
   ]
  },
  {
   "cell_type": "code",
   "execution_count": 186,
   "metadata": {
    "collapsed": true
   },
   "outputs": [
    {
     "ename": "KeyboardInterrupt",
     "evalue": "",
     "output_type": "error",
     "traceback": [
      "\u001b[1;31m---------------------------------------------------------------------------\u001b[0m",
      "\u001b[1;31mKeyboardInterrupt\u001b[0m                         Traceback (most recent call last)",
      "\u001b[1;32m<ipython-input-186-39dceed24542>\u001b[0m in \u001b[0;36m<module>\u001b[1;34m\u001b[0m\n\u001b[0;32m      1\u001b[0m \u001b[0mavvocati\u001b[0m \u001b[1;33m=\u001b[0m \u001b[1;33m[\u001b[0m\u001b[1;33m]\u001b[0m\u001b[1;33m\u001b[0m\u001b[1;33m\u001b[0m\u001b[0m\n\u001b[0;32m      2\u001b[0m \u001b[1;32mfor\u001b[0m \u001b[0miid\u001b[0m \u001b[1;32min\u001b[0m \u001b[0mappellate_court\u001b[0m\u001b[1;33m:\u001b[0m\u001b[1;33m\u001b[0m\u001b[1;33m\u001b[0m\u001b[0m\n\u001b[1;32m----> 3\u001b[1;33m     \u001b[1;32mfor\u001b[0m \u001b[0mx\u001b[0m \u001b[1;32min\u001b[0m \u001b[0mdb\u001b[0m\u001b[1;33m.\u001b[0m\u001b[0mfind\u001b[0m\u001b[1;33m(\u001b[0m\u001b[1;33m{\u001b[0m\u001b[1;33m}\u001b[0m\u001b[1;33m,\u001b[0m \u001b[1;33m{\u001b[0m\u001b[1;34m\"casebody.data.attorneys\"\u001b[0m\u001b[1;33m:\u001b[0m\u001b[1;36m1\u001b[0m\u001b[1;33m,\u001b[0m \u001b[1;34m\"_id\"\u001b[0m \u001b[1;33m:\u001b[0m \u001b[0miid\u001b[0m\u001b[1;33m}\u001b[0m\u001b[1;33m)\u001b[0m\u001b[1;33m:\u001b[0m\u001b[1;33m\u001b[0m\u001b[1;33m\u001b[0m\u001b[0m\n\u001b[0m\u001b[0;32m      4\u001b[0m         \u001b[0mavvocati\u001b[0m\u001b[1;33m.\u001b[0m\u001b[0mappend\u001b[0m\u001b[1;33m(\u001b[0m\u001b[0mx\u001b[0m\u001b[1;33m[\u001b[0m\u001b[1;34m'casebody'\u001b[0m\u001b[1;33m]\u001b[0m\u001b[1;33m[\u001b[0m\u001b[1;34m'data'\u001b[0m\u001b[1;33m]\u001b[0m\u001b[1;33m[\u001b[0m\u001b[1;34m'attorneys'\u001b[0m\u001b[1;33m]\u001b[0m\u001b[1;33m)\u001b[0m\u001b[1;33m\u001b[0m\u001b[1;33m\u001b[0m\u001b[0m\n",
      "\u001b[1;32m~\\anaconda3\\lib\\site-packages\\pymongo\\cursor.py\u001b[0m in \u001b[0;36mnext\u001b[1;34m(self)\u001b[0m\n\u001b[0;32m   1205\u001b[0m         \u001b[1;32mif\u001b[0m \u001b[0mself\u001b[0m\u001b[1;33m.\u001b[0m\u001b[0m__empty\u001b[0m\u001b[1;33m:\u001b[0m\u001b[1;33m\u001b[0m\u001b[1;33m\u001b[0m\u001b[0m\n\u001b[0;32m   1206\u001b[0m             \u001b[1;32mraise\u001b[0m \u001b[0mStopIteration\u001b[0m\u001b[1;33m\u001b[0m\u001b[1;33m\u001b[0m\u001b[0m\n\u001b[1;32m-> 1207\u001b[1;33m         \u001b[1;32mif\u001b[0m \u001b[0mlen\u001b[0m\u001b[1;33m(\u001b[0m\u001b[0mself\u001b[0m\u001b[1;33m.\u001b[0m\u001b[0m__data\u001b[0m\u001b[1;33m)\u001b[0m \u001b[1;32mor\u001b[0m \u001b[0mself\u001b[0m\u001b[1;33m.\u001b[0m\u001b[0m_refresh\u001b[0m\u001b[1;33m(\u001b[0m\u001b[1;33m)\u001b[0m\u001b[1;33m:\u001b[0m\u001b[1;33m\u001b[0m\u001b[1;33m\u001b[0m\u001b[0m\n\u001b[0m\u001b[0;32m   1208\u001b[0m             \u001b[1;32mif\u001b[0m \u001b[0mself\u001b[0m\u001b[1;33m.\u001b[0m\u001b[0m__manipulate\u001b[0m\u001b[1;33m:\u001b[0m\u001b[1;33m\u001b[0m\u001b[1;33m\u001b[0m\u001b[0m\n\u001b[0;32m   1209\u001b[0m                 \u001b[0m_db\u001b[0m \u001b[1;33m=\u001b[0m \u001b[0mself\u001b[0m\u001b[1;33m.\u001b[0m\u001b[0m__collection\u001b[0m\u001b[1;33m.\u001b[0m\u001b[0mdatabase\u001b[0m\u001b[1;33m\u001b[0m\u001b[1;33m\u001b[0m\u001b[0m\n",
      "\u001b[1;32m~\\anaconda3\\lib\\site-packages\\pymongo\\cursor.py\u001b[0m in \u001b[0;36m_refresh\u001b[1;34m(self)\u001b[0m\n\u001b[0;32m   1142\u001b[0m                                     \u001b[0mself\u001b[0m\u001b[1;33m.\u001b[0m\u001b[0m__max_await_time_ms\u001b[0m\u001b[1;33m,\u001b[0m\u001b[1;33m\u001b[0m\u001b[1;33m\u001b[0m\u001b[0m\n\u001b[0;32m   1143\u001b[0m                                     self.__exhaust_mgr)\n\u001b[1;32m-> 1144\u001b[1;33m             \u001b[0mself\u001b[0m\u001b[1;33m.\u001b[0m\u001b[0m__send_message\u001b[0m\u001b[1;33m(\u001b[0m\u001b[0mg\u001b[0m\u001b[1;33m)\u001b[0m\u001b[1;33m\u001b[0m\u001b[1;33m\u001b[0m\u001b[0m\n\u001b[0m\u001b[0;32m   1145\u001b[0m \u001b[1;33m\u001b[0m\u001b[0m\n\u001b[0;32m   1146\u001b[0m         \u001b[1;32mreturn\u001b[0m \u001b[0mlen\u001b[0m\u001b[1;33m(\u001b[0m\u001b[0mself\u001b[0m\u001b[1;33m.\u001b[0m\u001b[0m__data\u001b[0m\u001b[1;33m)\u001b[0m\u001b[1;33m\u001b[0m\u001b[1;33m\u001b[0m\u001b[0m\n",
      "\u001b[1;32m~\\anaconda3\\lib\\site-packages\\pymongo\\cursor.py\u001b[0m in \u001b[0;36m__send_message\u001b[1;34m(self, operation)\u001b[0m\n\u001b[0;32m    997\u001b[0m \u001b[1;33m\u001b[0m\u001b[0m\n\u001b[0;32m    998\u001b[0m         \u001b[1;32mtry\u001b[0m\u001b[1;33m:\u001b[0m\u001b[1;33m\u001b[0m\u001b[1;33m\u001b[0m\u001b[0m\n\u001b[1;32m--> 999\u001b[1;33m             response = client._run_operation_with_response(\n\u001b[0m\u001b[0;32m   1000\u001b[0m                 \u001b[0moperation\u001b[0m\u001b[1;33m,\u001b[0m \u001b[0mself\u001b[0m\u001b[1;33m.\u001b[0m\u001b[0m_unpack_response\u001b[0m\u001b[1;33m,\u001b[0m \u001b[0mexhaust\u001b[0m\u001b[1;33m=\u001b[0m\u001b[0mself\u001b[0m\u001b[1;33m.\u001b[0m\u001b[0m__exhaust\u001b[0m\u001b[1;33m,\u001b[0m\u001b[1;33m\u001b[0m\u001b[1;33m\u001b[0m\u001b[0m\n\u001b[0;32m   1001\u001b[0m                 address=self.__address)\n",
      "\u001b[1;32m~\\anaconda3\\lib\\site-packages\\pymongo\\mongo_client.py\u001b[0m in \u001b[0;36m_run_operation_with_response\u001b[1;34m(self, operation, unpack_res, exhaust, address)\u001b[0m\n\u001b[0;32m   1366\u001b[0m                 unpack_res)\n\u001b[0;32m   1367\u001b[0m \u001b[1;33m\u001b[0m\u001b[0m\n\u001b[1;32m-> 1368\u001b[1;33m         return self._retryable_read(\n\u001b[0m\u001b[0;32m   1369\u001b[0m             \u001b[0m_cmd\u001b[0m\u001b[1;33m,\u001b[0m \u001b[0moperation\u001b[0m\u001b[1;33m.\u001b[0m\u001b[0mread_preference\u001b[0m\u001b[1;33m,\u001b[0m \u001b[0moperation\u001b[0m\u001b[1;33m.\u001b[0m\u001b[0msession\u001b[0m\u001b[1;33m,\u001b[0m\u001b[1;33m\u001b[0m\u001b[1;33m\u001b[0m\u001b[0m\n\u001b[0;32m   1370\u001b[0m             \u001b[0maddress\u001b[0m\u001b[1;33m=\u001b[0m\u001b[0maddress\u001b[0m\u001b[1;33m,\u001b[0m\u001b[1;33m\u001b[0m\u001b[1;33m\u001b[0m\u001b[0m\n",
      "\u001b[1;32m~\\anaconda3\\lib\\site-packages\\pymongo\\mongo_client.py\u001b[0m in \u001b[0;36m_retryable_read\u001b[1;34m(self, func, read_pref, session, address, retryable, exhaust)\u001b[0m\n\u001b[0;32m   1469\u001b[0m                         \u001b[1;31m# not support retryable reads, raise the last error.\u001b[0m\u001b[1;33m\u001b[0m\u001b[1;33m\u001b[0m\u001b[1;33m\u001b[0m\u001b[0m\n\u001b[0;32m   1470\u001b[0m                         \u001b[1;32mraise\u001b[0m \u001b[0mlast_error\u001b[0m\u001b[1;33m\u001b[0m\u001b[1;33m\u001b[0m\u001b[0m\n\u001b[1;32m-> 1471\u001b[1;33m                     \u001b[1;32mreturn\u001b[0m \u001b[0mfunc\u001b[0m\u001b[1;33m(\u001b[0m\u001b[0msession\u001b[0m\u001b[1;33m,\u001b[0m \u001b[0mserver\u001b[0m\u001b[1;33m,\u001b[0m \u001b[0msock_info\u001b[0m\u001b[1;33m,\u001b[0m \u001b[0mslave_ok\u001b[0m\u001b[1;33m)\u001b[0m\u001b[1;33m\u001b[0m\u001b[1;33m\u001b[0m\u001b[0m\n\u001b[0m\u001b[0;32m   1472\u001b[0m             \u001b[1;32mexcept\u001b[0m \u001b[0mServerSelectionTimeoutError\u001b[0m\u001b[1;33m:\u001b[0m\u001b[1;33m\u001b[0m\u001b[1;33m\u001b[0m\u001b[0m\n\u001b[0;32m   1473\u001b[0m                 \u001b[1;32mif\u001b[0m \u001b[0mretrying\u001b[0m\u001b[1;33m:\u001b[0m\u001b[1;33m\u001b[0m\u001b[1;33m\u001b[0m\u001b[0m\n",
      "\u001b[1;32m~\\anaconda3\\lib\\site-packages\\pymongo\\mongo_client.py\u001b[0m in \u001b[0;36m_cmd\u001b[1;34m(session, server, sock_info, slave_ok)\u001b[0m\n\u001b[0;32m   1358\u001b[0m \u001b[1;33m\u001b[0m\u001b[0m\n\u001b[0;32m   1359\u001b[0m         \u001b[1;32mdef\u001b[0m \u001b[0m_cmd\u001b[0m\u001b[1;33m(\u001b[0m\u001b[0msession\u001b[0m\u001b[1;33m,\u001b[0m \u001b[0mserver\u001b[0m\u001b[1;33m,\u001b[0m \u001b[0msock_info\u001b[0m\u001b[1;33m,\u001b[0m \u001b[0mslave_ok\u001b[0m\u001b[1;33m)\u001b[0m\u001b[1;33m:\u001b[0m\u001b[1;33m\u001b[0m\u001b[1;33m\u001b[0m\u001b[0m\n\u001b[1;32m-> 1360\u001b[1;33m             return server.run_operation_with_response(\n\u001b[0m\u001b[0;32m   1361\u001b[0m                 \u001b[0msock_info\u001b[0m\u001b[1;33m,\u001b[0m\u001b[1;33m\u001b[0m\u001b[1;33m\u001b[0m\u001b[0m\n\u001b[0;32m   1362\u001b[0m                 \u001b[0moperation\u001b[0m\u001b[1;33m,\u001b[0m\u001b[1;33m\u001b[0m\u001b[1;33m\u001b[0m\u001b[0m\n",
      "\u001b[1;32m~\\anaconda3\\lib\\site-packages\\pymongo\\server.py\u001b[0m in \u001b[0;36mrun_operation_with_response\u001b[1;34m(self, sock_info, operation, set_slave_okay, listeners, exhaust, unpack_res)\u001b[0m\n\u001b[0;32m    115\u001b[0m             \u001b[1;32mif\u001b[0m \u001b[0msend_message\u001b[0m\u001b[1;33m:\u001b[0m\u001b[1;33m\u001b[0m\u001b[1;33m\u001b[0m\u001b[0m\n\u001b[0;32m    116\u001b[0m                 \u001b[0msock_info\u001b[0m\u001b[1;33m.\u001b[0m\u001b[0msend_message\u001b[0m\u001b[1;33m(\u001b[0m\u001b[0mdata\u001b[0m\u001b[1;33m,\u001b[0m \u001b[0mmax_doc_size\u001b[0m\u001b[1;33m)\u001b[0m\u001b[1;33m\u001b[0m\u001b[1;33m\u001b[0m\u001b[0m\n\u001b[1;32m--> 117\u001b[1;33m                 \u001b[0mreply\u001b[0m \u001b[1;33m=\u001b[0m \u001b[0msock_info\u001b[0m\u001b[1;33m.\u001b[0m\u001b[0mreceive_message\u001b[0m\u001b[1;33m(\u001b[0m\u001b[0mrequest_id\u001b[0m\u001b[1;33m)\u001b[0m\u001b[1;33m\u001b[0m\u001b[1;33m\u001b[0m\u001b[0m\n\u001b[0m\u001b[0;32m    118\u001b[0m             \u001b[1;32melse\u001b[0m\u001b[1;33m:\u001b[0m\u001b[1;33m\u001b[0m\u001b[1;33m\u001b[0m\u001b[0m\n\u001b[0;32m    119\u001b[0m                 \u001b[0mreply\u001b[0m \u001b[1;33m=\u001b[0m \u001b[0msock_info\u001b[0m\u001b[1;33m.\u001b[0m\u001b[0mreceive_message\u001b[0m\u001b[1;33m(\u001b[0m\u001b[1;32mNone\u001b[0m\u001b[1;33m)\u001b[0m\u001b[1;33m\u001b[0m\u001b[1;33m\u001b[0m\u001b[0m\n",
      "\u001b[1;32m~\\anaconda3\\lib\\site-packages\\pymongo\\pool.py\u001b[0m in \u001b[0;36mreceive_message\u001b[1;34m(self, request_id)\u001b[0m\n\u001b[0;32m    724\u001b[0m             \u001b[1;32mreturn\u001b[0m \u001b[0mreceive_message\u001b[0m\u001b[1;33m(\u001b[0m\u001b[0mself\u001b[0m\u001b[1;33m,\u001b[0m \u001b[0mrequest_id\u001b[0m\u001b[1;33m,\u001b[0m \u001b[0mself\u001b[0m\u001b[1;33m.\u001b[0m\u001b[0mmax_message_size\u001b[0m\u001b[1;33m)\u001b[0m\u001b[1;33m\u001b[0m\u001b[1;33m\u001b[0m\u001b[0m\n\u001b[0;32m    725\u001b[0m         \u001b[1;32mexcept\u001b[0m \u001b[0mBaseException\u001b[0m \u001b[1;32mas\u001b[0m \u001b[0merror\u001b[0m\u001b[1;33m:\u001b[0m\u001b[1;33m\u001b[0m\u001b[1;33m\u001b[0m\u001b[0m\n\u001b[1;32m--> 726\u001b[1;33m             \u001b[0mself\u001b[0m\u001b[1;33m.\u001b[0m\u001b[0m_raise_connection_failure\u001b[0m\u001b[1;33m(\u001b[0m\u001b[0merror\u001b[0m\u001b[1;33m)\u001b[0m\u001b[1;33m\u001b[0m\u001b[1;33m\u001b[0m\u001b[0m\n\u001b[0m\u001b[0;32m    727\u001b[0m \u001b[1;33m\u001b[0m\u001b[0m\n\u001b[0;32m    728\u001b[0m     \u001b[1;32mdef\u001b[0m \u001b[0m_raise_if_not_writable\u001b[0m\u001b[1;33m(\u001b[0m\u001b[0mself\u001b[0m\u001b[1;33m,\u001b[0m \u001b[0munacknowledged\u001b[0m\u001b[1;33m)\u001b[0m\u001b[1;33m:\u001b[0m\u001b[1;33m\u001b[0m\u001b[1;33m\u001b[0m\u001b[0m\n",
      "\u001b[1;32m~\\anaconda3\\lib\\site-packages\\pymongo\\pool.py\u001b[0m in \u001b[0;36mreceive_message\u001b[1;34m(self, request_id)\u001b[0m\n\u001b[0;32m    722\u001b[0m         \"\"\"\n\u001b[0;32m    723\u001b[0m         \u001b[1;32mtry\u001b[0m\u001b[1;33m:\u001b[0m\u001b[1;33m\u001b[0m\u001b[1;33m\u001b[0m\u001b[0m\n\u001b[1;32m--> 724\u001b[1;33m             \u001b[1;32mreturn\u001b[0m \u001b[0mreceive_message\u001b[0m\u001b[1;33m(\u001b[0m\u001b[0mself\u001b[0m\u001b[1;33m,\u001b[0m \u001b[0mrequest_id\u001b[0m\u001b[1;33m,\u001b[0m \u001b[0mself\u001b[0m\u001b[1;33m.\u001b[0m\u001b[0mmax_message_size\u001b[0m\u001b[1;33m)\u001b[0m\u001b[1;33m\u001b[0m\u001b[1;33m\u001b[0m\u001b[0m\n\u001b[0m\u001b[0;32m    725\u001b[0m         \u001b[1;32mexcept\u001b[0m \u001b[0mBaseException\u001b[0m \u001b[1;32mas\u001b[0m \u001b[0merror\u001b[0m\u001b[1;33m:\u001b[0m\u001b[1;33m\u001b[0m\u001b[1;33m\u001b[0m\u001b[0m\n\u001b[0;32m    726\u001b[0m             \u001b[0mself\u001b[0m\u001b[1;33m.\u001b[0m\u001b[0m_raise_connection_failure\u001b[0m\u001b[1;33m(\u001b[0m\u001b[0merror\u001b[0m\u001b[1;33m)\u001b[0m\u001b[1;33m\u001b[0m\u001b[1;33m\u001b[0m\u001b[0m\n",
      "\u001b[1;32m~\\anaconda3\\lib\\site-packages\\pymongo\\network.py\u001b[0m in \u001b[0;36mreceive_message\u001b[1;34m(sock_info, request_id, max_message_size)\u001b[0m\n\u001b[0;32m    193\u001b[0m     \u001b[1;31m# Ignore the response's request id.\u001b[0m\u001b[1;33m\u001b[0m\u001b[1;33m\u001b[0m\u001b[1;33m\u001b[0m\u001b[0m\n\u001b[0;32m    194\u001b[0m     length, _, response_to, op_code = _UNPACK_HEADER(\n\u001b[1;32m--> 195\u001b[1;33m         _receive_data_on_socket(sock_info, 16, deadline))\n\u001b[0m\u001b[0;32m    196\u001b[0m     \u001b[1;31m# No request_id for exhaust cursor \"getMore\".\u001b[0m\u001b[1;33m\u001b[0m\u001b[1;33m\u001b[0m\u001b[1;33m\u001b[0m\u001b[0m\n\u001b[0;32m    197\u001b[0m     \u001b[1;32mif\u001b[0m \u001b[0mrequest_id\u001b[0m \u001b[1;32mis\u001b[0m \u001b[1;32mnot\u001b[0m \u001b[1;32mNone\u001b[0m\u001b[1;33m:\u001b[0m\u001b[1;33m\u001b[0m\u001b[1;33m\u001b[0m\u001b[0m\n",
      "\u001b[1;32m~\\anaconda3\\lib\\site-packages\\pymongo\\network.py\u001b[0m in \u001b[0;36m_receive_data_on_socket\u001b[1;34m(sock_info, length, deadline)\u001b[0m\n\u001b[0;32m    284\u001b[0m             \u001b[1;32mtry\u001b[0m\u001b[1;33m:\u001b[0m\u001b[1;33m\u001b[0m\u001b[1;33m\u001b[0m\u001b[0m\n\u001b[0;32m    285\u001b[0m                 \u001b[0mwait_for_read\u001b[0m\u001b[1;33m(\u001b[0m\u001b[0msock_info\u001b[0m\u001b[1;33m,\u001b[0m \u001b[0mdeadline\u001b[0m\u001b[1;33m)\u001b[0m\u001b[1;33m\u001b[0m\u001b[1;33m\u001b[0m\u001b[0m\n\u001b[1;32m--> 286\u001b[1;33m                 \u001b[0mchunk_length\u001b[0m \u001b[1;33m=\u001b[0m \u001b[0msock_info\u001b[0m\u001b[1;33m.\u001b[0m\u001b[0msock\u001b[0m\u001b[1;33m.\u001b[0m\u001b[0mrecv_into\u001b[0m\u001b[1;33m(\u001b[0m\u001b[0mmv\u001b[0m\u001b[1;33m[\u001b[0m\u001b[0mbytes_read\u001b[0m\u001b[1;33m:\u001b[0m\u001b[1;33m]\u001b[0m\u001b[1;33m)\u001b[0m\u001b[1;33m\u001b[0m\u001b[1;33m\u001b[0m\u001b[0m\n\u001b[0m\u001b[0;32m    287\u001b[0m             \u001b[1;32mexcept\u001b[0m \u001b[1;33m(\u001b[0m\u001b[0mIOError\u001b[0m\u001b[1;33m,\u001b[0m \u001b[0mOSError\u001b[0m\u001b[1;33m)\u001b[0m \u001b[1;32mas\u001b[0m \u001b[0mexc\u001b[0m\u001b[1;33m:\u001b[0m\u001b[1;33m\u001b[0m\u001b[1;33m\u001b[0m\u001b[0m\n\u001b[0;32m    288\u001b[0m                 \u001b[1;32mif\u001b[0m \u001b[0m_errno_from_exception\u001b[0m\u001b[1;33m(\u001b[0m\u001b[0mexc\u001b[0m\u001b[1;33m)\u001b[0m \u001b[1;33m==\u001b[0m \u001b[0merrno\u001b[0m\u001b[1;33m.\u001b[0m\u001b[0mEINTR\u001b[0m\u001b[1;33m:\u001b[0m\u001b[1;33m\u001b[0m\u001b[1;33m\u001b[0m\u001b[0m\n",
      "\u001b[1;31mKeyboardInterrupt\u001b[0m: "
     ]
    }
   ],
   "source": [
    "avvocati = []\n",
    "for iid in appellate_court:\n",
    "    for x in db.find({}, {\"casebody.data.attorneys\":1, \"_id\" : iid}):\n",
    "        avvocati.append(x['casebody']['data']['attorneys'])"
   ]
  },
  {
   "cell_type": "code",
   "execution_count": null,
   "metadata": {},
   "outputs": [],
   "source": []
  },
  {
   "cell_type": "code",
   "execution_count": 245,
   "metadata": {},
   "outputs": [
    {
     "data": {
      "text/plain": [
       "63823"
      ]
     },
     "execution_count": 245,
     "metadata": {},
     "output_type": "execute_result"
    }
   ],
   "source": [
    "c = 0\n",
    "posizione = []\n",
    "for ls_avvocato in avvocati:\n",
    "    ls_avvocato[0]"
   ]
  },
  {
   "cell_type": "code",
   "execution_count": 252,
   "metadata": {},
   "outputs": [
    {
     "name": "stdout",
     "output_type": "stream",
     "text": [
      "0\n"
     ]
    }
   ],
   "source": [
    "c = 0\n",
    "posizione = []\n",
    "for ls_avvocato in avvocati:\n",
    "    pippo = ' '.join(ls_avvocato)\n",
    "    for i,avvocato in enumerate(ls_avvocato): \n",
    "        if \"appellant\" in avvocato:\n",
    "            posizione.append(i)\n",
    "        elif \"petitioner\" in avvocato: \n",
    "            posizione.append(i)\n",
    "        elif \"claimant\" in avvocato: \n",
    "            posizione.append(i)\n",
    "        elif \"plaintiff\" in avvocato: \n",
    "            posizione.append(i)\n",
    "    '''\n",
    "    if (\"appellant\" not in pippo and \"for the People\" not in pippo and \"plaintiff\" not in pippo and \"claimant\" not in pippo\n",
    "        and \" petitioner\" not in pippo):\n",
    "        c+=1\n",
    "        print(ls_avvocato)\n",
    "    \n",
    "    for avvocato in set(ls_avvocato): \n",
    "        if \"appellant\" in avvocato:\n",
    "            c+=1\n",
    "            print()\n",
    "        else:\n",
    "            ' '.join(ls_avvocato)\n",
    "                \n",
    "            print(ls_avvocato, '\\n')\n",
    "        \n",
    "    '''\n",
    "print(c)"
   ]
  },
  {
   "cell_type": "code",
   "execution_count": 176,
   "metadata": {},
   "outputs": [],
   "source": [
    "from collections import Counter"
   ]
  },
  {
   "cell_type": "code",
   "execution_count": 254,
   "metadata": {},
   "outputs": [],
   "source": [
    "from spacy import displacy "
   ]
  },
  {
   "cell_type": "code",
   "execution_count": 251,
   "metadata": {},
   "outputs": [
    {
     "data": {
      "text/plain": [
       "Counter({0: 56618,\n",
       "         1: 10663,\n",
       "         5: 27,\n",
       "         2: 441,\n",
       "         3: 107,\n",
       "         4: 58,\n",
       "         6: 17,\n",
       "         7: 8,\n",
       "         8: 8,\n",
       "         9: 6,\n",
       "         10: 3,\n",
       "         11: 3,\n",
       "         12: 1,\n",
       "         13: 1,\n",
       "         14: 1,\n",
       "         15: 1,\n",
       "         16: 1,\n",
       "         17: 1,\n",
       "         18: 1,\n",
       "         19: 1,\n",
       "         20: 1,\n",
       "         21: 1,\n",
       "         22: 1})"
      ]
     },
     "execution_count": 251,
     "metadata": {},
     "output_type": "execute_result"
    }
   ],
   "source": [
    "Counter(posizione)"
   ]
  },
  {
   "cell_type": "code",
   "execution_count": 249,
   "metadata": {},
   "outputs": [
    {
     "data": {
      "text/plain": [
       "Counter({0: 56618, 1: 392, 6: 1, 2: 16, 5: 1})"
      ]
     },
     "execution_count": 249,
     "metadata": {},
     "output_type": "execute_result"
    }
   ],
   "source": [
    "Counter(posizione)"
   ]
  },
  {
   "cell_type": "code",
   "execution_count": 244,
   "metadata": {},
   "outputs": [
    {
     "name": "stdout",
     "output_type": "stream",
     "text": [
      "0 Otto Kerner, Attorney General, and A. H. Greening, State’s Attorney, (John H. Gately, and George F. Mulligan, Jr., of counsel,) for the People.\n"
     ]
    }
   ],
   "source": [
    "for i,avvocato in enumerate(ls_avvocato): \n",
    "    if \"appellant\" in avvocato:\n",
    "        c+=1\n",
    "    elif \"for the People\" in avvocato:\n",
    "        print(i, avvocato)"
   ]
  },
  {
   "cell_type": "code",
   "execution_count": 177,
   "metadata": {},
   "outputs": [
    {
     "data": {
      "text/plain": [
       "Counter({'Illinois Supreme Court': 49182,\n",
       "         'Illinois Appellate Court': 123915,\n",
       "         'Illinois Court of Claims': 9848,\n",
       "         'Illinois Circuit Court': 201})"
      ]
     },
     "execution_count": 177,
     "metadata": {},
     "output_type": "execute_result"
    }
   ],
   "source": [
    "Counter(corte)"
   ]
  },
  {
   "cell_type": "code",
   "execution_count": 170,
   "metadata": {},
   "outputs": [
    {
     "name": "stdout",
     "output_type": "stream",
     "text": [
      "183146\n"
     ]
    }
   ],
   "source": [
    "c = 0 \n",
    "for i in documenti_corte_suprema:\n",
    "    c +=1\n",
    "print(c)"
   ]
  },
  {
   "cell_type": "code",
   "execution_count": 146,
   "metadata": {},
   "outputs": [
    {
     "name": "stderr",
     "output_type": "stream",
     "text": [
      "<ipython-input-146-5698bf9d0835>:1: DeprecationWarning: remove is deprecated. Use delete_one or delete_many instead.\n",
      "  db.remove({'_id':{'$in':list_court_name}})\n"
     ]
    },
    {
     "data": {
      "text/plain": [
       "{'n': 183146, 'ok': 1.0}"
      ]
     },
     "execution_count": 146,
     "metadata": {},
     "output_type": "execute_result"
    }
   ],
   "source": [
    "db.delete_many({'_id':{'$in':list_court_name}})\n"
   ]
  },
  {
   "cell_type": "code",
   "execution_count": 153,
   "metadata": {},
   "outputs": [],
   "source": [
    "ids = []\n",
    "for x in db.find({}, {\"_id\":1}):\n",
    "    ids.append(x['_id'])"
   ]
  },
  {
   "cell_type": "code",
   "execution_count": null,
   "metadata": {},
   "outputs": [],
   "source": []
  }
 ],
 "metadata": {
  "kernelspec": {
   "display_name": "Python 3",
   "language": "python",
   "name": "python3"
  },
  "language_info": {
   "codemirror_mode": {
    "name": "ipython",
    "version": 3
   },
   "file_extension": ".py",
   "mimetype": "text/x-python",
   "name": "python",
   "nbconvert_exporter": "python",
   "pygments_lexer": "ipython3",
   "version": "3.8.3"
  }
 },
 "nbformat": 4,
 "nbformat_minor": 4
}
