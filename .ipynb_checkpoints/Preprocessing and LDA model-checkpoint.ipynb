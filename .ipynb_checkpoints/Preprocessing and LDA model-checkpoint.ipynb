{
 "cells": [
  {
   "cell_type": "code",
   "execution_count": 239,
   "metadata": {},
   "outputs": [],
   "source": [
    "import lzma #per leggere il file json.xz\n",
    "import json\n",
    "import pandas as pd \n",
    "import random\n",
    "import time\n",
    "\n",
    "from datetime import datetime\n",
    "from collections import Counter\n",
    "from collections import defaultdict\n",
    "\n",
    "import spacy\n",
    "from spacy import displacy\n",
    "import pickle\n",
    "from pprint import pprint\n",
    "\n"
   ]
  },
  {
   "cell_type": "code",
   "execution_count": 2,
   "metadata": {},
   "outputs": [
    {
     "name": "stderr",
     "output_type": "stream",
     "text": [
      "C:\\Users\\user\\anaconda3\\lib\\site-packages\\gensim\\similarities\\__init__.py:15: UserWarning: The gensim.similarities.levenshtein submodule is disabled, because the optional Levenshtein package <https://pypi.org/project/python-Levenshtein/> is unavailable. Install Levenhstein (e.g. `pip install python-Levenshtein`) to suppress this warning.\n",
      "  warnings.warn(msg)\n",
      "C:\\Users\\user\\anaconda3\\lib\\site-packages\\sklearn\\decomposition\\_lda.py:28: DeprecationWarning: `np.float` is a deprecated alias for the builtin `float`. To silence this warning, use `float` by itself. Doing this will not modify any behavior and is safe. If you specifically wanted the numpy scalar type, use `np.float64` here.\n",
      "Deprecated in NumPy 1.20; for more details and guidance: https://numpy.org/devdocs/release/1.20.0-notes.html#deprecations\n",
      "  EPS = np.finfo(np.float).eps\n"
     ]
    }
   ],
   "source": [
    "from sklearn.pipeline import Pipeline\n",
    "from sklearn.feature_extraction.text import CountVectorizer\n",
    "from sklearn.feature_extraction.text import TfidfTransformer\n",
    "from sklearn.feature_extraction.text import TfidfVectorizer\n",
    "from sklearn.metrics.pairwise import cosine_similarity\n",
    "\n",
    "from collections import Counter, OrderedDict\n",
    "from tqdm import tqdm\n",
    "from datetime import datetime\n",
    "import matplotlib.pyplot as plt\n",
    "\n",
    "import gensim\n",
    "import gensim.corpora as corpora\n",
    "from gensim.utils import simple_preprocess\n",
    "from gensim.models import CoherenceModel\n",
    "\n",
    "# Plotting tools\n",
    "import pyLDAvis\n",
    "#import pyLDAvis.gensim  # don't skip this\n",
    "import matplotlib.pyplot as plt\n",
    "%matplotlib inline\n",
    "import pyLDAvis.gensim_models "
   ]
  },
  {
   "cell_type": "code",
   "execution_count": 41,
   "metadata": {},
   "outputs": [],
   "source": [
    "lista_documenti = []\n",
    "with lzma.open('data.jsonl.xz', mode='rt') as file:\n",
    "    for line in file:\n",
    "        doc = json.loads(line.rstrip(\"\\n\"))\n",
    "        if doc['court']['name'] == \"Illinois Appellate Court\":\n",
    "            if len(doc['decision_date']) > 7: \n",
    "                doc['decision_date'] = datetime.strptime(doc['decision_date'], '%Y-%m-%d')\n",
    "            elif len(doc['decision_date']) == 4:\n",
    "                doc['decision_date'] = datetime.strptime(doc['decision_date'], '%Y')\n",
    "            else: \n",
    "                doc['decision_date'] = datetime.strptime(doc['decision_date'], '%Y-%m')\n",
    "            lista_documenti.append(doc)"
   ]
  },
  {
   "cell_type": "markdown",
   "metadata": {},
   "source": [
    "Dividiamo in 4 gruppi in base all'anno"
   ]
  },
  {
   "cell_type": "code",
   "execution_count": 42,
   "metadata": {},
   "outputs": [],
   "source": [
    "dict_divided_by_year = {\"1850\" : [doc for doc in lista_documenti if doc['decision_date'].year > 1850 and doc['decision_date'].year <1900],\n",
    "\"1900\" : [doc for doc in lista_documenti if doc['decision_date'].year > 1899 and doc['decision_date'].year < 1950],\n",
    "\"1950\" : [doc for doc in lista_documenti if doc['decision_date'].year > 1949 and doc['decision_date'].year < 2000],\n",
    "\"2000\" : [doc for doc in lista_documenti if doc['decision_date'].year > 1999]}\n"
   ]
  },
  {
   "cell_type": "code",
   "execution_count": 195,
   "metadata": {},
   "outputs": [],
   "source": [
    "lista_anni = ['1850', '1900', '1950', '2000']"
   ]
  },
  {
   "cell_type": "code",
   "execution_count": 194,
   "metadata": {},
   "outputs": [],
   "source": [
    "n=2000\n",
    "dict_divided_by_year_random = {\"1850\": random.sample(dict_divided_by_year['1850'], n),\n",
    "                                \"1900\": random.sample(dict_divided_by_year['1900'], n),\n",
    "                                \"1950\": random.sample(dict_divided_by_year['1950'], n),\n",
    "                                \"2000\": random.sample(dict_divided_by_year['2000'], n)}"
   ]
  },
  {
   "cell_type": "code",
   "execution_count": 245,
   "metadata": {},
   "outputs": [],
   "source": [
    "\n",
    "with open(r'C:\\Users\\user\\Desktop\\UNIMI\\ProjectInfoRet\\data\\data2000.p', 'wb') as fp:\n",
    "    pickle.dump(dict_divided_by_year_random, fp, protocol=pickle.HIGHEST_PROTOCOL)"
   ]
  },
  {
   "cell_type": "code",
   "execution_count": 4,
   "metadata": {},
   "outputs": [],
   "source": [
    "with open(r'C:\\Users\\user\\Desktop\\UNIMI\\ProjectInfoRet\\data\\data2000.p', \"rb\") as f:\n",
    "    dict_divided_by_year_random = pickle.load(f)"
   ]
  },
  {
   "cell_type": "code",
   "execution_count": 5,
   "metadata": {},
   "outputs": [],
   "source": [
    "for anno in lista_anni:\n",
    "    for doc in dict_divided_by_year_random[anno]:\n",
    "        if type(doc['casebody']['data']['opinions']) == list:\n",
    "            if len(doc['casebody']['data']['opinions']) == 1: \n",
    "                doc['casebody']['data']['opinions'] = doc['casebody']['data']['opinions'][0]['text']\n",
    "            else:\n",
    "                opinioni = \"\"\n",
    "                for i in doc['casebody']['data']['opinions']:\n",
    "                    opinioni += i['text']\n",
    "                doc['casebody']['data']['opinions'] = opinioni"
   ]
  },
  {
   "cell_type": "code",
   "execution_count": 6,
   "metadata": {},
   "outputs": [],
   "source": [
    "nlp = spacy.load(\"en_core_web_sm\")"
   ]
  },
  {
   "cell_type": "code",
   "execution_count": 7,
   "metadata": {},
   "outputs": [],
   "source": [
    "tokens = lambda text: [x.lemma_.lower() for x in nlp(text) if x.pos_ in ['ADJ', 'ADV', 'VERB', 'AUX', 'DET', 'NOUN', 'SCONJ']\n",
    "                       and not x.is_stop and  x.is_alpha == True]"
   ]
  },
  {
   "cell_type": "code",
   "execution_count": 8,
   "metadata": {},
   "outputs": [
    {
     "name": "stderr",
     "output_type": "stream",
     "text": [
      "100%|███████████████████████████████████████████████████████████████████████████████████| 4/4 [33:44<00:00, 506.23s/it]\n"
     ]
    }
   ],
   "source": [
    "for anno in tqdm(lista_anni):\n",
    "    all_opinions = [dict_divided_by_year_random[anno][i]['casebody']['data']['opinions'] for i in range(len(dict_divided_by_year_random[anno]))]\n",
    "    all_ids = [dict_divided_by_year_random[anno][i]['id'] for i in range(len(dict_divided_by_year_random[anno]))]\n",
    "    ls_opinioni_tokenizzate = [tokens(opinione) for opinione in all_opinions]\n",
    "    \n",
    "    with open(r'C:\\Users\\user\\Desktop\\UNIMI\\ProjectInfoRet\\data\\doc_token_{}.json'.format(anno), 'w') as f:\n",
    "        json.dump({'ls_opinioni_tokenizzate':ls_opinioni_tokenizzate}, f)"
   ]
  },
  {
   "cell_type": "code",
   "execution_count": 133,
   "metadata": {},
   "outputs": [],
   "source": [
    "def compute_coherence_values(dictionary, corpus, texts, limit, start=2, step=3):\n",
    "    coherence_values = []\n",
    "    model_list = []\n",
    "    for num_topics in range(start, limit, step):\n",
    "        model = gensim.models.ldamodel.LdaModel(corpus=corpus,\n",
    "                                           id2word=id2word,\n",
    "                                           num_topics=num_topics, \n",
    "                                           random_state=100,\n",
    "                                           update_every=1,\n",
    "                                           passes=10,\n",
    "                                           alpha='auto',\n",
    "                                           per_word_topics=True)\n",
    "        model_list.append(model)\n",
    "        coherencemodel = CoherenceModel(model=model, texts=texts, dictionary=dictionary, coherence='c_v')\n",
    "        coherence_values.append(coherencemodel.get_coherence())\n",
    "\n",
    "    return model_list, coherence_values"
   ]
  },
  {
   "cell_type": "code",
   "execution_count": 136,
   "metadata": {},
   "outputs": [],
   "source": [
    "modelli, coerenza = {}, {}\n",
    "for anno in lista_anni:\n",
    "    with open(r'C:\\Users\\user\\Desktop\\UNIMI\\ProjectInfoRet\\data\\doc_token_{}.json'.format(anno)) as json_file:\n",
    "        ls_opinioni_tokenizzate = json.load(json_file)['ls_opinioni_tokenizzate']\n",
    "    id2word = corpora.Dictionary(ls_opinioni_tokenizzate)\n",
    "    corpus = [id2word.doc2bow(text) for text in ls_opinioni_tokenizzate]\n",
    "    model_list, coherence_values = compute_coherence_values(dictionary=id2word, corpus=corpus, texts=ls_opinioni_tokenizzate, start=10, limit=40, step=6)\n",
    "    modelli[anno] = model_list\n",
    "    coerenza[anno] = coherence_values"
   ]
  },
  {
   "cell_type": "code",
   "execution_count": 46,
   "metadata": {},
   "outputs": [
    {
     "data": {
      "image/png": "[encoded data removed]",
      "text/plain": [
       "<Figure size 432x288 with 1 Axes>"
      ]
     },
     "metadata": {
      "needs_background": "light"
     },
     "output_type": "display_data"
    }
   ],
   "source": [
    "\n",
    "limit=40; start=10; step=6;\n",
    "x = range(start, limit, step)\n",
    "for anno in lista_anni:\n",
    "    plt.plot(x, coerenza[anno])\n",
    "plt.xlabel(\"Num Topics\")\n",
    "plt.ylabel(\"Coherence score\")\n",
    "plt.legend(lista_anni, loc='best')\n",
    "plt.show()\n"
   ]
  },
  {
   "cell_type": "code",
   "execution_count": 62,
   "metadata": {},
   "outputs": [],
   "source": [
    "ls_num_topics = []\n",
    "for num_topic in range(start, limit, step):\n",
    "    ls_num_topics.append(num_topic)"
   ]
  },
  {
   "cell_type": "code",
   "execution_count": null,
   "metadata": {},
   "outputs": [],
   "source": [
    "for anno in lista_anni:\n",
    "    index = coerenza[anno].index(max(coerenza[anno]))\n",
    "    model = modelli[anno][index]\n",
    "    model.save(r'C:\\Users\\user\\Desktop\\UNIMI\\ProjectInfoRet\\data\\lda_{}.model'.format(anno))\n",
    "    print(anno, \"   numero di topic: \", ls_num_topics[index])"
   ]
  },
  {
   "cell_type": "code",
   "execution_count": null,
   "metadata": {},
   "outputs": [],
   "source": []
  },
  {
   "cell_type": "code",
   "execution_count": null,
   "metadata": {},
   "outputs": [],
   "source": []
  },
  {
   "cell_type": "code",
   "execution_count": null,
   "metadata": {},
   "outputs": [],
   "source": []
  },
  {
   "cell_type": "code",
   "execution_count": null,
   "metadata": {},
   "outputs": [],
   "source": []
  },
  {
   "cell_type": "code",
   "execution_count": null,
   "metadata": {},
   "outputs": [],
   "source": []
  },
  {
   "cell_type": "code",
   "execution_count": 191,
   "metadata": {},
   "outputs": [
    {
     "name": "stdout",
     "output_type": "stream",
     "text": [
      "(13, 0.00047542047) ['alcohol', 'argue', 'arrest', 'ask', 'base', 'blood', 'car', 'case', 'cause', 'circumstance', 'consent', 'court', 'defendant', 'determine', 'drive', 'driver', 'drug', 'evidence', 'fact', 'find', 'follow', 'give', 'interview', 'know', 'license', 'motion', 'observe', 'officer', 'people', 'person', 'police', 'probable', 'question', 'reasonable', 'result', 'right', 'search', 'state', 'statement', 'stop', 'suppress', 'take', 'tell', 'test', 'testify', 'testimony', 'time', 'traffic', 'trial', 'vehicle']\n"
     ]
    }
   ],
   "source": [
    "# Data una parola cerco qual è il topic più simile\n",
    "tid = id2word.token2id['beer']\n",
    "x = sorted(model.get_term_topics(tid, minimum_probability=0), key=lambda x: x[1], reverse = True)[0]\n",
    "\n",
    "print(x, sorted([x for x, y in model.show_topic(x[0], topn=50)]))\n"
   ]
  },
  {
   "cell_type": "code",
   "execution_count": null,
   "metadata": {},
   "outputs": [],
   "source": []
  },
  {
   "cell_type": "code",
   "execution_count": null,
   "metadata": {},
   "outputs": [],
   "source": []
  },
  {
   "cell_type": "code",
   "execution_count": null,
   "metadata": {},
   "outputs": [],
   "source": []
  },
  {
   "cell_type": "code",
   "execution_count": null,
   "metadata": {},
   "outputs": [],
   "source": []
  },
  {
   "cell_type": "code",
   "execution_count": null,
   "metadata": {},
   "outputs": [],
   "source": []
  }
 ],
 "metadata": {
  "kernelspec": {
   "display_name": "Python 3",
   "language": "python",
   "name": "python3"
  },
  "language_info": {
   "codemirror_mode": {
    "name": "ipython",
    "version": 3
   },
   "file_extension": ".py",
   "mimetype": "text/x-python",
   "name": "python",
   "nbconvert_exporter": "python",
   "pygments_lexer": "ipython3",
   "version": "3.8.3"
  }
 },
 "nbformat": 4,
 "nbformat_minor": 4
}
